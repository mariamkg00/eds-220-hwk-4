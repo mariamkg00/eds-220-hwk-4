{
 "cells": [
  {
   "cell_type": "markdown",
   "id": "1021ffb5-434f-41b8-8ef6-8be99a724583",
   "metadata": {
    "tags": []
   },
   "source": [
    "# Task 2 - Landsat 8 false color image\n",
    "\n",
    "## General instructions\n",
    "\n",
    "First, update the following cell to have a link to your Homework 4 GitHub repository\n",
    "\n",
    "**UPDATE THIS LINK** https://github.com/mariamkg00/eds-220-hwk-4\n",
    "\n",
    "Add comments for all your code and commit as needed. Err on the side of commenting and commiting too much for now.\n",
    "\n",
    "## Overview\n",
    "The goal of this task is to create a false color image showing the fire scar of the Thomas fire in 2017. \n",
    "Read more about false color images here:\n",
    "[NASA Earth Observatory - Why is that Forest Red and that Cloud Blue?\n",
    "How to Interpret a False-Color Satellite Image](https://earthobservatory.nasa.gov/features/FalseColor)\n",
    "\n",
    "## About the data\n",
    "\n",
    "In this task you will use two datsets:\n",
    "\n",
    "**First dataset**\n",
    "\n",
    "A simplified collection of bands (red, green, blue, near-infrared and shortwave infrared) from the Landsat Collection 2 Level-2 atmosperically corrected surface reflectance data, collected by the Landsat 8 satellite. \n",
    "\n",
    "Information about Landsat bands from USGS:\n",
    "\n",
    "- [What are the band designations for the Landsat satellites?](https://www.usgs.gov/faqs/what-are-band-designations-landsat-satellites)\n",
    "\n",
    "-[Common Landsat Band Combinations](https://www.usgs.gov/media/images/common-landsat-band-combinations)\n",
    "\n",
    "-[How do I use a scale factor with Landsat Level-2 science products?](https://www.usgs.gov/faqs/how-do-i-use-a-scale-factor-landsat-level-2-science-products)\n",
    "\n",
    "\n",
    "The data was accessed and pre-processed in the Microsoft Planetary Computer to remove data outside land and coarsen the spatial resolution ([Landsat Collection in MPC](https://planetarycomputer.microsoft.com/dataset/landsat-c2-l2)). Data should be used for visualization purposes only. \n",
    "\n",
    "\n",
    "**Second dataset**\n",
    "\n",
    "A shapefile of fire perimeters in California during 2017. \n",
    "The [complete file can be accessed in the CA state geoportal](https://gis.data.ca.gov/datasets/CALFIRE-Forestry::california-fire-perimeters-all-1/about).\n",
    "\n",
    "## File management\n",
    "All your data files must be  inside a directory named 'data' **in your gitignore**. \n",
    "\n",
    "## Data access\n",
    "All data is in the Canvas-week7-homework zip file."
   ]
  },
  {
   "cell_type": "markdown",
   "id": "7d3d39d4-75fd-42da-a3a5-10fd7167695a",
   "metadata": {},
   "source": [
    "## FINAL CODE\n",
    "\n",
    "You will use the next cell at the end of the task. Leave it blank for now."
   ]
  },
  {
   "cell_type": "code",
   "execution_count": 1,
   "id": "a9990f15-0a53-4d0b-955c-14da0315243d",
   "metadata": {},
   "outputs": [],
   "source": [
    "### ===== FINAL CODE ====="
   ]
  },
  {
   "cell_type": "markdown",
   "id": "4d998a14-2fce-48b1-824d-db11f48815b5",
   "metadata": {},
   "source": [
    "## Import libraries and functions"
   ]
  },
  {
   "cell_type": "code",
   "execution_count": 2,
   "id": "0b55b9d6-bf95-429d-bd4c-0d917eb79508",
   "metadata": {
    "tags": []
   },
   "outputs": [],
   "source": [
    "import os\n",
    "import numpy as np\n",
    "import matplotlib.pyplot as plt\n",
    "import xarray as xr\n",
    "import rioxarray as rioxr\n",
    "import pandas as pd\n",
    "\n",
    "import geopandas as gpd\n",
    "from shapely.geometry import Polygon"
   ]
  },
  {
   "cell_type": "markdown",
   "id": "d95a8a8d-9cf5-4c1c-87b1-8bb72a493cee",
   "metadata": {},
   "source": [
    "## Import data"
   ]
  },
  {
   "cell_type": "code",
   "execution_count": 8,
   "id": "a0edcc64-f8bb-45fd-b49a-26e59a8749e1",
   "metadata": {
    "tags": []
   },
   "outputs": [
    {
     "data": {
      "text/html": [
       "<div>\n",
       "<style scoped>\n",
       "    .dataframe tbody tr th:only-of-type {\n",
       "        vertical-align: middle;\n",
       "    }\n",
       "\n",
       "    .dataframe tbody tr th {\n",
       "        vertical-align: top;\n",
       "    }\n",
       "\n",
       "    .dataframe thead th {\n",
       "        text-align: right;\n",
       "    }\n",
       "</style>\n",
       "<table border=\"1\" class=\"dataframe\">\n",
       "  <thead>\n",
       "    <tr style=\"text-align: right;\">\n",
       "      <th></th>\n",
       "      <th>index</th>\n",
       "      <th>OBJECTID</th>\n",
       "      <th>YEAR_</th>\n",
       "      <th>STATE</th>\n",
       "      <th>AGENCY</th>\n",
       "      <th>UNIT_ID</th>\n",
       "      <th>FIRE_NAME</th>\n",
       "      <th>INC_NUM</th>\n",
       "      <th>ALARM_DATE</th>\n",
       "      <th>CONT_DATE</th>\n",
       "      <th>...</th>\n",
       "      <th>GIS_ACRES</th>\n",
       "      <th>COMMENTS</th>\n",
       "      <th>COMPLEX_NA</th>\n",
       "      <th>COMPLEX_IN</th>\n",
       "      <th>IRWINID</th>\n",
       "      <th>FIRE_NUM</th>\n",
       "      <th>DECADES</th>\n",
       "      <th>SHAPE_Leng</th>\n",
       "      <th>SHAPE_Area</th>\n",
       "      <th>geometry</th>\n",
       "    </tr>\n",
       "  </thead>\n",
       "  <tbody>\n",
       "    <tr>\n",
       "      <th>0</th>\n",
       "      <td>19836</td>\n",
       "      <td>41429</td>\n",
       "      <td>2017</td>\n",
       "      <td>CA</td>\n",
       "      <td>CCO</td>\n",
       "      <td>VNC</td>\n",
       "      <td>BROOK</td>\n",
       "      <td>00042450</td>\n",
       "      <td>2017-05-23</td>\n",
       "      <td>2017-05-24</td>\n",
       "      <td>...</td>\n",
       "      <td>10.043819</td>\n",
       "      <td>per walked track</td>\n",
       "      <td>None</td>\n",
       "      <td>None</td>\n",
       "      <td>None</td>\n",
       "      <td>None</td>\n",
       "      <td>2010</td>\n",
       "      <td>1246.055781</td>\n",
       "      <td>59473.666651</td>\n",
       "      <td>POLYGON ((-13229812.974 4046876.486, -13229786...</td>\n",
       "    </tr>\n",
       "    <tr>\n",
       "      <th>1</th>\n",
       "      <td>19837</td>\n",
       "      <td>41430</td>\n",
       "      <td>2017</td>\n",
       "      <td>CA</td>\n",
       "      <td>CCO</td>\n",
       "      <td>VNC</td>\n",
       "      <td>PACIFIC</td>\n",
       "      <td>00075307</td>\n",
       "      <td>2017-09-09</td>\n",
       "      <td>2017-09-09</td>\n",
       "      <td>...</td>\n",
       "      <td>1.190109</td>\n",
       "      <td>Final Walked track.  Small spot to the north east</td>\n",
       "      <td>None</td>\n",
       "      <td>None</td>\n",
       "      <td>None</td>\n",
       "      <td>None</td>\n",
       "      <td>2010</td>\n",
       "      <td>561.418202</td>\n",
       "      <td>7081.369481</td>\n",
       "      <td>POLYGON ((-13286872.985 4074523.355, -13286895...</td>\n",
       "    </tr>\n",
       "    <tr>\n",
       "      <th>2</th>\n",
       "      <td>19838</td>\n",
       "      <td>41431</td>\n",
       "      <td>2017</td>\n",
       "      <td>CA</td>\n",
       "      <td>CCO</td>\n",
       "      <td>VNC</td>\n",
       "      <td>GRADE</td>\n",
       "      <td>00054660</td>\n",
       "      <td>2017-07-04</td>\n",
       "      <td>2017-07-05</td>\n",
       "      <td>...</td>\n",
       "      <td>47.194027</td>\n",
       "      <td>None</td>\n",
       "      <td>None</td>\n",
       "      <td>None</td>\n",
       "      <td>None</td>\n",
       "      <td>None</td>\n",
       "      <td>2010</td>\n",
       "      <td>2587.259697</td>\n",
       "      <td>279911.825212</td>\n",
       "      <td>POLYGON ((-13244637.580 4056332.530, -13244620...</td>\n",
       "    </tr>\n",
       "    <tr>\n",
       "      <th>3</th>\n",
       "      <td>19839</td>\n",
       "      <td>41432</td>\n",
       "      <td>2017</td>\n",
       "      <td>CA</td>\n",
       "      <td>CCO</td>\n",
       "      <td>VNC</td>\n",
       "      <td>PACIFICA</td>\n",
       "      <td>00051791</td>\n",
       "      <td>2017-06-24</td>\n",
       "      <td>2017-06-24</td>\n",
       "      <td>...</td>\n",
       "      <td>1.158548</td>\n",
       "      <td>GPS track</td>\n",
       "      <td>None</td>\n",
       "      <td>None</td>\n",
       "      <td>None</td>\n",
       "      <td>None</td>\n",
       "      <td>2010</td>\n",
       "      <td>501.178102</td>\n",
       "      <td>6859.664843</td>\n",
       "      <td>POLYGON ((-13229521.754 4046254.111, -13229510...</td>\n",
       "    </tr>\n",
       "    <tr>\n",
       "      <th>4</th>\n",
       "      <td>19840</td>\n",
       "      <td>41433</td>\n",
       "      <td>2017</td>\n",
       "      <td>CA</td>\n",
       "      <td>CCO</td>\n",
       "      <td>VNC</td>\n",
       "      <td>MONTVIEW</td>\n",
       "      <td>00040196</td>\n",
       "      <td>2017-05-15</td>\n",
       "      <td>2017-05-15</td>\n",
       "      <td>...</td>\n",
       "      <td>2.893327</td>\n",
       "      <td>Rough per description.  waiting for walked GPS...</td>\n",
       "      <td>None</td>\n",
       "      <td>None</td>\n",
       "      <td>None</td>\n",
       "      <td>None</td>\n",
       "      <td>2010</td>\n",
       "      <td>484.388887</td>\n",
       "      <td>17133.006159</td>\n",
       "      <td>POLYGON ((-13229663.036 4046858.853, -13229667...</td>\n",
       "    </tr>\n",
       "  </tbody>\n",
       "</table>\n",
       "<p>5 rows × 23 columns</p>\n",
       "</div>"
      ],
      "text/plain": [
       "   index  OBJECTID YEAR_ STATE AGENCY UNIT_ID FIRE_NAME   INC_NUM  ALARM_DATE  \\\n",
       "0  19836     41429  2017    CA    CCO     VNC     BROOK  00042450  2017-05-23   \n",
       "1  19837     41430  2017    CA    CCO     VNC   PACIFIC  00075307  2017-09-09   \n",
       "2  19838     41431  2017    CA    CCO     VNC     GRADE  00054660  2017-07-04   \n",
       "3  19839     41432  2017    CA    CCO     VNC  PACIFICA  00051791  2017-06-24   \n",
       "4  19840     41433  2017    CA    CCO     VNC  MONTVIEW  00040196  2017-05-15   \n",
       "\n",
       "    CONT_DATE  ...  GIS_ACRES  \\\n",
       "0  2017-05-24  ...  10.043819   \n",
       "1  2017-09-09  ...   1.190109   \n",
       "2  2017-07-05  ...  47.194027   \n",
       "3  2017-06-24  ...   1.158548   \n",
       "4  2017-05-15  ...   2.893327   \n",
       "\n",
       "                                            COMMENTS  COMPLEX_NA  COMPLEX_IN  \\\n",
       "0                                   per walked track        None        None   \n",
       "1  Final Walked track.  Small spot to the north east        None        None   \n",
       "2                                               None        None        None   \n",
       "3                                          GPS track        None        None   \n",
       "4  Rough per description.  waiting for walked GPS...        None        None   \n",
       "\n",
       "  IRWINID FIRE_NUM DECADES   SHAPE_Leng     SHAPE_Area  \\\n",
       "0    None     None    2010  1246.055781   59473.666651   \n",
       "1    None     None    2010   561.418202    7081.369481   \n",
       "2    None     None    2010  2587.259697  279911.825212   \n",
       "3    None     None    2010   501.178102    6859.664843   \n",
       "4    None     None    2010   484.388887   17133.006159   \n",
       "\n",
       "                                            geometry  \n",
       "0  POLYGON ((-13229812.974 4046876.486, -13229786...  \n",
       "1  POLYGON ((-13286872.985 4074523.355, -13286895...  \n",
       "2  POLYGON ((-13244637.580 4056332.530, -13244620...  \n",
       "3  POLYGON ((-13229521.754 4046254.111, -13229510...  \n",
       "4  POLYGON ((-13229663.036 4046858.853, -13229667...  \n",
       "\n",
       "[5 rows x 23 columns]"
      ]
     },
     "execution_count": 8,
     "metadata": {},
     "output_type": "execute_result"
    }
   ],
   "source": [
    "# importing the landsat netCDF file\n",
    "\n",
    "landsat_sb_fp = os.path.join(os.getcwd(),'data','landsat8-2018-01-26-sb-simplified.nc')\n",
    "\n",
    "landsat_sb = rioxr.open_rasterio(landsat_sb_fp)\n",
    "\n",
    "# importing CA shapefile\n",
    "ca = gpd.read_file(os.path.join('data','California_Fire_Perimeter','California_Fire_Perimeters_2017.shp'))\n"
   ]
  },
  {
   "cell_type": "markdown",
   "id": "ae0cf177-7132-4316-a3ec-0b1e3bd2d583",
   "metadata": {},
   "source": [
    "## Exploration \n",
    "\n",
    "Use the next cell(s) to perform relevant explorations of these datasets."
   ]
  },
  {
   "cell_type": "code",
   "execution_count": 25,
   "id": "4974ccac-827f-4736-920a-7e117312d0e8",
   "metadata": {},
   "outputs": [
    {
     "name": "stdout",
     "output_type": "stream",
     "text": [
      "<class 'method'>\n",
      "   index  OBJECTID YEAR_ STATE AGENCY UNIT_ID FIRE_NAME   INC_NUM  ALARM_DATE  \\\n",
      "0  19836     41429  2017    CA    CCO     VNC     BROOK  00042450  2017-05-23   \n",
      "1  19837     41430  2017    CA    CCO     VNC   PACIFIC  00075307  2017-09-09   \n",
      "\n",
      "    CONT_DATE  ...  GIS_ACRES  \\\n",
      "0  2017-05-24  ...  10.043819   \n",
      "1  2017-09-09  ...   1.190109   \n",
      "\n",
      "                                            COMMENTS  COMPLEX_NA  COMPLEX_IN  \\\n",
      "0                                   per walked track        None        None   \n",
      "1  Final Walked track.  Small spot to the north east        None        None   \n",
      "\n",
      "  IRWINID FIRE_NUM DECADES   SHAPE_Leng    SHAPE_Area  \\\n",
      "0    None     None    2010  1246.055781  59473.666651   \n",
      "1    None     None    2010   561.418202   7081.369481   \n",
      "\n",
      "                                            geometry  \n",
      "0  POLYGON ((-13229812.974 4046876.486, -13229786...  \n",
      "1  POLYGON ((-13286872.985 4074523.355, -13286895...  \n",
      "\n",
      "[2 rows x 23 columns]\n",
      "crs: epsg:3857\n"
     ]
    },
    {
     "data": {
      "text/plain": [
       "(608, 23)"
      ]
     },
     "execution_count": 25,
     "metadata": {},
     "output_type": "execute_result"
    }
   ],
   "source": [
    "# ------exploring landsat file-------\n",
    "\n",
    "# exploring the netcdf file\n",
    "type(landsat_sb) \n",
    "\n",
    "print(type(landsat_sb.values))\n",
    "landsat_sb.values\n",
    "\n",
    "\n",
    "# ------- exploring CA wildfire data ------\n",
    "\n",
    "print(ca.head(2))\n",
    "print('crs:' ,ca.crs)\n",
    "ca.shape\n",
    "# This geodataframe has 608 rows and 23 columns. "
   ]
  },
  {
   "cell_type": "markdown",
   "id": "ebabda3e-7860-492f-9504-7dabb83a230f",
   "metadata": {},
   "source": [
    "## Updates\n",
    "\n",
    "If there are any updates needed to the data to plot the true and false color images, perform them in the next cells (you may add as many as you need). \n",
    "Comment appropriately."
   ]
  },
  {
   "cell_type": "code",
   "execution_count": null,
   "id": "d6d43909-7d99-4ebf-b494-c388565a8f51",
   "metadata": {},
   "outputs": [],
   "source": [
    "# converting the xr.DataSet to a DataArray\n",
    "\n",
    "landsat_sb = xr.Dataset.to_array(landsat_sb)\n"
   ]
  },
  {
   "cell_type": "code",
   "execution_count": 33,
   "id": "6fdfd2b8-0bee-49c2-92d2-7d3dfc1bf24b",
   "metadata": {
    "tags": []
   },
   "outputs": [
    {
     "data": {
      "text/plain": [
       "(array([1.665067e+06, 8.330960e+05, 5.573700e+05, 8.281000e+04,\n",
       "        2.309100e+04, 1.123200e+04, 5.113000e+03, 1.688000e+03,\n",
       "        3.630000e+02, 2.000000e+01]),\n",
       " array([    0.        ,  5605.24691358, 11210.49382716, 16815.74074074,\n",
       "        22420.98765432, 28026.2345679 , 33631.48148148, 39236.72839506,\n",
       "        44841.97530864, 50447.22222222, 56052.4691358 ]),\n",
       " <BarContainer object of 10 artists>)"
      ]
     },
     "execution_count": 33,
     "metadata": {},
     "output_type": "execute_result"
    },
    {
     "data": {
      "image/png": "[encoded data removed]",
      "text/plain": [
       "<Figure size 640x480 with 1 Axes>"
      ]
     },
     "metadata": {},
     "output_type": "display_data"
    }
   ],
   "source": [
    "# checking to see if changes were made\n",
    "\n",
    "landsat_sb.plot()"
   ]
  },
  {
   "cell_type": "code",
   "execution_count": 34,
   "id": "6a7baa8b-e827-41e0-82d1-bf8c89538f09",
   "metadata": {
    "tags": []
   },
   "outputs": [
    {
     "name": "stdout",
     "output_type": "stream",
     "text": [
      "shape:  (5, 1, 731, 870)\n",
      "data type:  float64 \n",
      "\n"
     ]
    }
   ],
   "source": [
    "# print shape and data type\n",
    "print('shape: ', landsat_sb.shape)\n",
    "print('data type: ', landsat_sb.dtype, '\\n')"
   ]
  },
  {
   "cell_type": "markdown",
   "id": "854629c0-e3f3-41ae-b48a-44f71eaf6246",
   "metadata": {},
   "source": [
    "## True color image\n",
    "\n",
    "Without creating any new variables:\n",
    "\n",
    "Select the red, green and blue variables (in that order) of the `xarray.Dataset`, convert it to a `numpy.array` using the `to_array()` method, and then use `.plot.imshow()` to create an RGB image with the data. (There will be a warning)"
   ]
  },
  {
   "cell_type": "code",
   "execution_count": null,
   "id": "540704f7-f3f2-494c-93d5-af625f8a9376",
   "metadata": {
    "tags": []
   },
   "outputs": [],
   "source": [
    "# your code here"
   ]
  },
  {
   "cell_type": "markdown",
   "id": "e904a390-d9d2-4116-8200-b5efc2509982",
   "metadata": {},
   "source": [
    "Adjust the scale used for plotting the bands to get a true color image. \n",
    "HINT: [Check the `robust` parameter](https://matplotlib.org/stable/api/_as_gen/matplotlib.pyplot.imshow.html)\n",
    "The issue here is the clouds: their RGB values are outliers and cause the other values to be squished when plotting. "
   ]
  },
  {
   "cell_type": "code",
   "execution_count": null,
   "id": "68cd1405-af6f-4383-ba78-ac077b1facf5",
   "metadata": {
    "tags": []
   },
   "outputs": [],
   "source": [
    "# your code here"
   ]
  },
  {
   "cell_type": "markdown",
   "id": "e2fb06dd-68d6-4a41-841b-34e37daacc28",
   "metadata": {},
   "source": [
    "## False color image\n",
    "Without creating any new variables:\n",
    "\n",
    "Create a false color image by plotting the short-wave infrared (swir22), near-infrared, and red variables (in that order)."
   ]
  },
  {
   "cell_type": "code",
   "execution_count": null,
   "id": "792a5032-f059-4d4e-b150-0e38f024157e",
   "metadata": {
    "tags": []
   },
   "outputs": [],
   "source": [
    "# your code here"
   ]
  },
  {
   "cell_type": "markdown",
   "id": "70e0fcf4-09aa-4eeb-bd10-2d0134959517",
   "metadata": {},
   "source": [
    "## Updates\n",
    "\n",
    "If there are any updates needed to the data to create the map, perform them in the next cells (you may add as many as you need). \n",
    "Comment appropriately."
   ]
  },
  {
   "cell_type": "code",
   "execution_count": null,
   "id": "f7f57b9b-f73c-4055-a61f-368050b944c9",
   "metadata": {
    "tags": []
   },
   "outputs": [],
   "source": [
    "# your code here"
   ]
  },
  {
   "cell_type": "markdown",
   "id": "ace40c8f-64fb-4769-bd32-71e170423841",
   "metadata": {},
   "source": [
    "## Map\n",
    "\n",
    "Create a map showing the shortwave infrared/nir/ ed false color image together with the Thomas fire perimeter. \n",
    "Customize it appropriately."
   ]
  },
  {
   "cell_type": "code",
   "execution_count": null,
   "id": "fe4799fa-ef59-4216-8da8-a306036b24fc",
   "metadata": {},
   "outputs": [],
   "source": [
    "# your code here"
   ]
  },
  {
   "cell_type": "markdown",
   "id": "28ec8407-c885-4676-b76a-15f43044bd65",
   "metadata": {},
   "source": [
    "## Final code\n",
    "\n",
    "Collect all the relevant code into the first blank cell of the notebook titled \"FINAL CODE\". This single cell will have the end-to-end workflow: from importing libraries and loading the data, to producing the graph. The only ouput of this cell should be the plot you produced in the previous exercise. \n",
    "\n",
    "Add divisions for relevant sections and comment appropriately."
   ]
  }
 ],
 "metadata": {
  "kernelspec": {
   "display_name": "Anaconda 3 (Base)",
   "language": "python",
   "name": "base"
  },
  "language_info": {
   "codemirror_mode": {
    "name": "ipython",
    "version": 3
   },
   "file_extension": ".py",
   "mimetype": "text/x-python",
   "name": "python",
   "nbconvert_exporter": "python",
   "pygments_lexer": "ipython3",
   "version": "3.9.13"
  }
 },
 "nbformat": 4,
 "nbformat_minor": 5
}
